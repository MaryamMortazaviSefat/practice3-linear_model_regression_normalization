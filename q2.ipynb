{
  "nbformat": 4,
  "nbformat_minor": 0,
  "metadata": {
    "colab": {
      "provenance": [],
      "authorship_tag": "ABX9TyPA2jVhLb8wZiHbVVDtK9oR",
      "include_colab_link": true
    },
    "kernelspec": {
      "name": "python3",
      "display_name": "Python 3"
    },
    "language_info": {
      "name": "python"
    }
  },
  "cells": [
    {
      "cell_type": "markdown",
      "metadata": {
        "id": "view-in-github",
        "colab_type": "text"
      },
      "source": [
        "<a href=\"https://colab.research.google.com/github/MaryamMortazaviSefat/practice3-linear_model_regression_normalization/blob/main/q2.ipynb\" target=\"_parent\"><img src=\"https://colab.research.google.com/assets/colab-badge.svg\" alt=\"Open In Colab\"/></a>"
      ]
    },
    {
      "cell_type": "code",
      "execution_count": 7,
      "metadata": {
        "colab": {
          "base_uri": "https://localhost:8080/"
        },
        "id": "HR54ucEMkxz9",
        "outputId": "05d2373d-b8b4-4eb3-d97f-e11be8f935b9"
      },
      "outputs": [
        {
          "output_type": "stream",
          "name": "stdout",
          "text": [
            "--2024-09-30 02:55:21--  https://raw.githubusercontent.com/MaryamMortazaviSefat/practice2_Prediction-of-Persian-Numbers/refs/heads/main/data_hoda.py\n",
            "Resolving raw.githubusercontent.com (raw.githubusercontent.com)... 185.199.108.133, 185.199.109.133, 185.199.110.133, ...\n",
            "Connecting to raw.githubusercontent.com (raw.githubusercontent.com)|185.199.108.133|:443... connected.\n",
            "HTTP request sent, awaiting response... 200 OK\n",
            "Length: 1092 (1.1K) [text/plain]\n",
            "Saving to: ‘data_hoda.py.1’\n",
            "\n",
            "\rdata_hoda.py.1        0%[                    ]       0  --.-KB/s               \rdata_hoda.py.1      100%[===================>]   1.07K  --.-KB/s    in 0s      \n",
            "\n",
            "2024-09-30 02:55:21 (58.2 MB/s) - ‘data_hoda.py.1’ saved [1092/1092]\n",
            "\n",
            "--2024-09-30 02:55:21--  https://github.com/MaryamMortazaviSefat/practice2_Prediction-of-Persian-Numbers/raw/refs/heads/main/dataset/Data_hoda_full.mat\n",
            "Resolving github.com (github.com)... 140.82.113.3\n",
            "Connecting to github.com (github.com)|140.82.113.3|:443... connected.\n",
            "HTTP request sent, awaiting response... 302 Found\n",
            "Location: https://raw.githubusercontent.com/MaryamMortazaviSefat/practice2_Prediction-of-Persian-Numbers/refs/heads/main/dataset/Data_hoda_full.mat [following]\n",
            "--2024-09-30 02:55:22--  https://raw.githubusercontent.com/MaryamMortazaviSefat/practice2_Prediction-of-Persian-Numbers/refs/heads/main/dataset/Data_hoda_full.mat\n",
            "Resolving raw.githubusercontent.com (raw.githubusercontent.com)... 185.199.108.133, 185.199.109.133, 185.199.110.133, ...\n",
            "Connecting to raw.githubusercontent.com (raw.githubusercontent.com)|185.199.108.133|:443... connected.\n",
            "HTTP request sent, awaiting response... 200 OK\n",
            "Length: 3989009 (3.8M) [application/octet-stream]\n",
            "Saving to: ‘dataset/Data_hoda_full.mat.1’\n",
            "\n",
            "Data_hoda_full.mat. 100%[===================>]   3.80M  --.-KB/s    in 0.02s   \n",
            "\n",
            "2024-09-30 02:55:22 (199 MB/s) - ‘dataset/Data_hoda_full.mat.1’ saved [3989009/3989009]\n",
            "\n"
          ]
        }
      ],
      "source": [
        "#loaad .py module\n",
        "!wget https://raw.githubusercontent.com/MaryamMortazaviSefat/practice2_Prediction-of-Persian-Numbers/refs/heads/main/data_hoda.py\n",
        "!wget https://github.com/MaryamMortazaviSefat/practice2_Prediction-of-Persian-Numbers/raw/refs/heads/main/dataset/Data_hoda_full.mat -P dataset"
      ]
    },
    {
      "cell_type": "code",
      "source": [
        "import numpy as np\n",
        "import matplotlib.pyplot as plt\n",
        "from sklearn.linear_model import LogisticRegression\n",
        "\n",
        "from data_hoda import load_hoda"
      ],
      "metadata": {
        "id": "BY2N9VNzk83Z"
      },
      "execution_count": 42,
      "outputs": []
    },
    {
      "cell_type": "code",
      "source": [
        "x_train,y_train,x_test,y_test=load_hoda(size=5)"
      ],
      "metadata": {
        "id": "Y-zXU4uZHUrq"
      },
      "execution_count": 38,
      "outputs": []
    },
    {
      "cell_type": "code",
      "source": [
        "regl1=LogisticRegression(penalty='l1',solver='liblinear')\n",
        "regl1.fit(x_train,y_train)\n",
        "\n",
        "print(regl1.score(x_train,y_train))\n",
        "print(regl1.score(x_test,y_test))"
      ],
      "metadata": {
        "id": "oRDmEaI16y8e",
        "outputId": "cc16823f-1e1d-4487-cc75-04b5a40d8c35",
        "colab": {
          "base_uri": "https://localhost:8080/"
        }
      },
      "execution_count": 66,
      "outputs": [
        {
          "output_type": "stream",
          "name": "stdout",
          "text": [
            "0.935\n",
            "0.9\n"
          ]
        }
      ]
    },
    {
      "cell_type": "code",
      "source": [
        "regl2=LogisticRegression(penalty='l2')\n",
        "regl2.fit(x_train,y_train)\n",
        "\n",
        "print(regl2.score(x_train,y_train))\n",
        "print(regl2.score(x_test,y_test))"
      ],
      "metadata": {
        "id": "xNIK3H1y6Alc",
        "outputId": "c7e07eec-a5c4-4308-c93d-de818f4cd287",
        "colab": {
          "base_uri": "https://localhost:8080/"
        }
      },
      "execution_count": 67,
      "outputs": [
        {
          "output_type": "stream",
          "name": "stdout",
          "text": [
            "0.957\n",
            "0.88\n"
          ]
        },
        {
          "output_type": "stream",
          "name": "stderr",
          "text": [
            "/usr/local/lib/python3.10/dist-packages/sklearn/linear_model/_logistic.py:469: ConvergenceWarning: lbfgs failed to converge (status=1):\n",
            "STOP: TOTAL NO. of ITERATIONS REACHED LIMIT.\n",
            "\n",
            "Increase the number of iterations (max_iter) or scale the data as shown in:\n",
            "    https://scikit-learn.org/stable/modules/preprocessing.html\n",
            "Please also refer to the documentation for alternative solver options:\n",
            "    https://scikit-learn.org/stable/modules/linear_model.html#logistic-regression\n",
            "  n_iter_i = _check_optimize_result(\n"
          ]
        }
      ]
    },
    {
      "cell_type": "code",
      "source": [
        "x_train,y_train,x_test,y_test=load_hoda(size=5,training_sample_size=4500)"
      ],
      "metadata": {
        "id": "UD5Tqq9U8OX0"
      },
      "execution_count": 68,
      "outputs": []
    },
    {
      "cell_type": "code",
      "source": [
        "regl1=LogisticRegression(penalty='l1',solver='liblinear')\n",
        "regl1.fit(x_train,y_train)\n",
        "\n",
        "print(regl1.score(x_train,y_train))\n",
        "print(regl1.score(x_test,y_test))"
      ],
      "metadata": {
        "id": "03k6kDMZ9i8n",
        "outputId": "adc4e676-f85a-4184-da9f-83e231f4597a",
        "colab": {
          "base_uri": "https://localhost:8080/"
        }
      },
      "execution_count": 69,
      "outputs": [
        {
          "output_type": "stream",
          "name": "stdout",
          "text": [
            "0.9128888888888889\n",
            "0.91\n"
          ]
        }
      ]
    },
    {
      "cell_type": "code",
      "source": [
        "regl2=LogisticRegression(penalty='l2')\n",
        "regl2.fit(x_train,y_train)\n",
        "\n",
        "print(regl2.score(x_train,y_train))\n",
        "print(regl2.score(x_test,y_test))"
      ],
      "metadata": {
        "id": "CGUKyh0M9nno",
        "outputId": "650e6b54-bf26-4a40-fa03-29fd84fe6c44",
        "colab": {
          "base_uri": "https://localhost:8080/"
        }
      },
      "execution_count": 70,
      "outputs": [
        {
          "output_type": "stream",
          "name": "stdout",
          "text": [
            "0.9131111111111111\n",
            "0.94\n"
          ]
        },
        {
          "output_type": "stream",
          "name": "stderr",
          "text": [
            "/usr/local/lib/python3.10/dist-packages/sklearn/linear_model/_logistic.py:469: ConvergenceWarning: lbfgs failed to converge (status=1):\n",
            "STOP: TOTAL NO. of ITERATIONS REACHED LIMIT.\n",
            "\n",
            "Increase the number of iterations (max_iter) or scale the data as shown in:\n",
            "    https://scikit-learn.org/stable/modules/preprocessing.html\n",
            "Please also refer to the documentation for alternative solver options:\n",
            "    https://scikit-learn.org/stable/modules/linear_model.html#logistic-regression\n",
            "  n_iter_i = _check_optimize_result(\n"
          ]
        }
      ]
    },
    {
      "cell_type": "markdown",
      "source": [
        "بنظرم ال وان  وقتی تعداد داده های آموزش زیاد شود بهتر عمل می کند ولی با فرض ابتدایی ال وان بهتر عمل کرده .\n",
        "\n",
        "در حالت پیش فرض که تعداد دیتای آموزش کمتر است ، ال وان  دچار اورفیت شده و انگار دیتا را حفظ کرده و احتمالا بخاطر دیتای کم آموزش بوده.\n"
      ],
      "metadata": {
        "id": "P7Y1lH9d_pGt"
      }
    }
  ]
}